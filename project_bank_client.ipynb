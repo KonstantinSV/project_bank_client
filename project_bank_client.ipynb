{
  "nbformat": 4,
  "nbformat_minor": 0,
  "metadata": {
    "colab": {
      "name": "project_bank_client.ipynb",
      "provenance": [],
      "collapsed_sections": [],
      "toc_visible": true,
      "mount_file_id": "1oAn50lfTKYwmvlZ2VhAVp7nzpH6kVcjU",
      "authorship_tag": "ABX9TyOQe5yA/QU3yU2AWad+RMfo",
      "include_colab_link": true
    },
    "kernelspec": {
      "name": "python3",
      "display_name": "Python 3"
    }
  },
  "cells": [
    {
      "cell_type": "markdown",
      "metadata": {
        "id": "view-in-github",
        "colab_type": "text"
      },
      "source": [
        "<a href=\"https://colab.research.google.com/github/KonstantinSV/project_bank_client/blob/main/project_bank_client.ipynb\" target=\"_parent\"><img src=\"https://colab.research.google.com/assets/colab-badge.svg\" alt=\"Open In Colab\"/></a>"
      ]
    },
    {
      "cell_type": "markdown",
      "metadata": {
        "id": "gW6dKKz4J6q7"
      },
      "source": [
        " **Проект: Cнижение клиентооборота**"
      ]
    },
    {
      "cell_type": "markdown",
      "metadata": {
        "id": "DwvV33sTKbEf"
      },
      "source": [
        "Цель - обучить модель предсказывающую уйдёт клиент из банка в ближайшее время или нет."
      ]
    },
    {
      "cell_type": "markdown",
      "metadata": {
        "id": "X5c1eZ_eKrc2"
      },
      "source": [
        "Данные для обучения:\r\n",
        "\r\n",
        "Датасет на Kaggle - https://www.kaggle.com/barelydedicated/bank-customer-churn-modeling"
      ]
    },
    {
      "cell_type": "markdown",
      "metadata": {
        "id": "9uCCIi9WQ_2y"
      },
      "source": [
        "# Предварительная обработка данных и исследование задачи"
      ]
    },
    {
      "cell_type": "code",
      "metadata": {
        "id": "Yj2HTDI3QY2f"
      },
      "source": [
        "import pandas as pd\r\n",
        "import matplotlib.pyplot as plt\r\n",
        "import numpy as np\r\n",
        "import sklearn as sk\r\n",
        "from sklearn.tree import DecisionTreeClassifier\r\n",
        "from sklearn.ensemble import RandomForestClassifier\r\n",
        "from sklearn.linear_model import LogisticRegression\r\n",
        "from sklearn.model_selection import train_test_split\r\n",
        "from sklearn.preprocessing import StandardScaler\r\n",
        "from sklearn.metrics import f1_score\r\n",
        "from sklearn.utils import shuffle\r\n",
        "from sklearn.metrics import roc_curve\r\n",
        "from sklearn.metrics import roc_auc_score"
      ],
      "execution_count": 1,
      "outputs": []
    },
    {
      "cell_type": "code",
      "metadata": {
        "id": "Xn-o_m5kRJeA"
      },
      "source": [
        "df=pd.read_csv('/content/drive/MyDrive/Colab Notebooks/projects/project_bank_client/Churn_Modelling.csv')"
      ],
      "execution_count": 2,
      "outputs": []
    },
    {
      "cell_type": "code",
      "metadata": {
        "colab": {
          "base_uri": "https://localhost:8080/"
        },
        "id": "sKmjGcx-MDAc",
        "outputId": "731497f7-84eb-4593-be81-2d346cbf385b"
      },
      "source": [
        "# Размеры DataFrame\r\n",
        "df.shape"
      ],
      "execution_count": 3,
      "outputs": [
        {
          "output_type": "execute_result",
          "data": {
            "text/plain": [
              "(10000, 14)"
            ]
          },
          "metadata": {
            "tags": []
          },
          "execution_count": 3
        }
      ]
    },
    {
      "cell_type": "code",
      "metadata": {
        "colab": {
          "base_uri": "https://localhost:8080/",
          "height": 426
        },
        "id": "i56fJLI3Od8A",
        "outputId": "e452a535-a3fb-4488-c519-c16886f636f0"
      },
      "source": [
        "df"
      ],
      "execution_count": 4,
      "outputs": [
        {
          "output_type": "execute_result",
          "data": {
            "text/html": [
              "<div>\n",
              "<style scoped>\n",
              "    .dataframe tbody tr th:only-of-type {\n",
              "        vertical-align: middle;\n",
              "    }\n",
              "\n",
              "    .dataframe tbody tr th {\n",
              "        vertical-align: top;\n",
              "    }\n",
              "\n",
              "    .dataframe thead th {\n",
              "        text-align: right;\n",
              "    }\n",
              "</style>\n",
              "<table border=\"1\" class=\"dataframe\">\n",
              "  <thead>\n",
              "    <tr style=\"text-align: right;\">\n",
              "      <th></th>\n",
              "      <th>RowNumber</th>\n",
              "      <th>CustomerId</th>\n",
              "      <th>Surname</th>\n",
              "      <th>CreditScore</th>\n",
              "      <th>Geography</th>\n",
              "      <th>Gender</th>\n",
              "      <th>Age</th>\n",
              "      <th>Tenure</th>\n",
              "      <th>Balance</th>\n",
              "      <th>NumOfProducts</th>\n",
              "      <th>HasCrCard</th>\n",
              "      <th>IsActiveMember</th>\n",
              "      <th>EstimatedSalary</th>\n",
              "      <th>Exited</th>\n",
              "    </tr>\n",
              "  </thead>\n",
              "  <tbody>\n",
              "    <tr>\n",
              "      <th>0</th>\n",
              "      <td>1</td>\n",
              "      <td>15634602</td>\n",
              "      <td>Hargrave</td>\n",
              "      <td>619</td>\n",
              "      <td>France</td>\n",
              "      <td>Female</td>\n",
              "      <td>42</td>\n",
              "      <td>2</td>\n",
              "      <td>0.00</td>\n",
              "      <td>1</td>\n",
              "      <td>1</td>\n",
              "      <td>1</td>\n",
              "      <td>101348.88</td>\n",
              "      <td>1</td>\n",
              "    </tr>\n",
              "    <tr>\n",
              "      <th>1</th>\n",
              "      <td>2</td>\n",
              "      <td>15647311</td>\n",
              "      <td>Hill</td>\n",
              "      <td>608</td>\n",
              "      <td>Spain</td>\n",
              "      <td>Female</td>\n",
              "      <td>41</td>\n",
              "      <td>1</td>\n",
              "      <td>83807.86</td>\n",
              "      <td>1</td>\n",
              "      <td>0</td>\n",
              "      <td>1</td>\n",
              "      <td>112542.58</td>\n",
              "      <td>0</td>\n",
              "    </tr>\n",
              "    <tr>\n",
              "      <th>2</th>\n",
              "      <td>3</td>\n",
              "      <td>15619304</td>\n",
              "      <td>Onio</td>\n",
              "      <td>502</td>\n",
              "      <td>France</td>\n",
              "      <td>Female</td>\n",
              "      <td>42</td>\n",
              "      <td>8</td>\n",
              "      <td>159660.80</td>\n",
              "      <td>3</td>\n",
              "      <td>1</td>\n",
              "      <td>0</td>\n",
              "      <td>113931.57</td>\n",
              "      <td>1</td>\n",
              "    </tr>\n",
              "    <tr>\n",
              "      <th>3</th>\n",
              "      <td>4</td>\n",
              "      <td>15701354</td>\n",
              "      <td>Boni</td>\n",
              "      <td>699</td>\n",
              "      <td>France</td>\n",
              "      <td>Female</td>\n",
              "      <td>39</td>\n",
              "      <td>1</td>\n",
              "      <td>0.00</td>\n",
              "      <td>2</td>\n",
              "      <td>0</td>\n",
              "      <td>0</td>\n",
              "      <td>93826.63</td>\n",
              "      <td>0</td>\n",
              "    </tr>\n",
              "    <tr>\n",
              "      <th>4</th>\n",
              "      <td>5</td>\n",
              "      <td>15737888</td>\n",
              "      <td>Mitchell</td>\n",
              "      <td>850</td>\n",
              "      <td>Spain</td>\n",
              "      <td>Female</td>\n",
              "      <td>43</td>\n",
              "      <td>2</td>\n",
              "      <td>125510.82</td>\n",
              "      <td>1</td>\n",
              "      <td>1</td>\n",
              "      <td>1</td>\n",
              "      <td>79084.10</td>\n",
              "      <td>0</td>\n",
              "    </tr>\n",
              "    <tr>\n",
              "      <th>...</th>\n",
              "      <td>...</td>\n",
              "      <td>...</td>\n",
              "      <td>...</td>\n",
              "      <td>...</td>\n",
              "      <td>...</td>\n",
              "      <td>...</td>\n",
              "      <td>...</td>\n",
              "      <td>...</td>\n",
              "      <td>...</td>\n",
              "      <td>...</td>\n",
              "      <td>...</td>\n",
              "      <td>...</td>\n",
              "      <td>...</td>\n",
              "      <td>...</td>\n",
              "    </tr>\n",
              "    <tr>\n",
              "      <th>9995</th>\n",
              "      <td>9996</td>\n",
              "      <td>15606229</td>\n",
              "      <td>Obijiaku</td>\n",
              "      <td>771</td>\n",
              "      <td>France</td>\n",
              "      <td>Male</td>\n",
              "      <td>39</td>\n",
              "      <td>5</td>\n",
              "      <td>0.00</td>\n",
              "      <td>2</td>\n",
              "      <td>1</td>\n",
              "      <td>0</td>\n",
              "      <td>96270.64</td>\n",
              "      <td>0</td>\n",
              "    </tr>\n",
              "    <tr>\n",
              "      <th>9996</th>\n",
              "      <td>9997</td>\n",
              "      <td>15569892</td>\n",
              "      <td>Johnstone</td>\n",
              "      <td>516</td>\n",
              "      <td>France</td>\n",
              "      <td>Male</td>\n",
              "      <td>35</td>\n",
              "      <td>10</td>\n",
              "      <td>57369.61</td>\n",
              "      <td>1</td>\n",
              "      <td>1</td>\n",
              "      <td>1</td>\n",
              "      <td>101699.77</td>\n",
              "      <td>0</td>\n",
              "    </tr>\n",
              "    <tr>\n",
              "      <th>9997</th>\n",
              "      <td>9998</td>\n",
              "      <td>15584532</td>\n",
              "      <td>Liu</td>\n",
              "      <td>709</td>\n",
              "      <td>France</td>\n",
              "      <td>Female</td>\n",
              "      <td>36</td>\n",
              "      <td>7</td>\n",
              "      <td>0.00</td>\n",
              "      <td>1</td>\n",
              "      <td>0</td>\n",
              "      <td>1</td>\n",
              "      <td>42085.58</td>\n",
              "      <td>1</td>\n",
              "    </tr>\n",
              "    <tr>\n",
              "      <th>9998</th>\n",
              "      <td>9999</td>\n",
              "      <td>15682355</td>\n",
              "      <td>Sabbatini</td>\n",
              "      <td>772</td>\n",
              "      <td>Germany</td>\n",
              "      <td>Male</td>\n",
              "      <td>42</td>\n",
              "      <td>3</td>\n",
              "      <td>75075.31</td>\n",
              "      <td>2</td>\n",
              "      <td>1</td>\n",
              "      <td>0</td>\n",
              "      <td>92888.52</td>\n",
              "      <td>1</td>\n",
              "    </tr>\n",
              "    <tr>\n",
              "      <th>9999</th>\n",
              "      <td>10000</td>\n",
              "      <td>15628319</td>\n",
              "      <td>Walker</td>\n",
              "      <td>792</td>\n",
              "      <td>France</td>\n",
              "      <td>Female</td>\n",
              "      <td>28</td>\n",
              "      <td>4</td>\n",
              "      <td>130142.79</td>\n",
              "      <td>1</td>\n",
              "      <td>1</td>\n",
              "      <td>0</td>\n",
              "      <td>38190.78</td>\n",
              "      <td>0</td>\n",
              "    </tr>\n",
              "  </tbody>\n",
              "</table>\n",
              "<p>10000 rows × 14 columns</p>\n",
              "</div>"
            ],
            "text/plain": [
              "      RowNumber  CustomerId    Surname  ...  IsActiveMember EstimatedSalary Exited\n",
              "0             1    15634602   Hargrave  ...               1       101348.88      1\n",
              "1             2    15647311       Hill  ...               1       112542.58      0\n",
              "2             3    15619304       Onio  ...               0       113931.57      1\n",
              "3             4    15701354       Boni  ...               0        93826.63      0\n",
              "4             5    15737888   Mitchell  ...               1        79084.10      0\n",
              "...         ...         ...        ...  ...             ...             ...    ...\n",
              "9995       9996    15606229   Obijiaku  ...               0        96270.64      0\n",
              "9996       9997    15569892  Johnstone  ...               1       101699.77      0\n",
              "9997       9998    15584532        Liu  ...               1        42085.58      1\n",
              "9998       9999    15682355  Sabbatini  ...               0        92888.52      1\n",
              "9999      10000    15628319     Walker  ...               0        38190.78      0\n",
              "\n",
              "[10000 rows x 14 columns]"
            ]
          },
          "metadata": {
            "tags": []
          },
          "execution_count": 4
        }
      ]
    },
    {
      "cell_type": "code",
      "metadata": {
        "id": "zfqtf7wsRKAI",
        "colab": {
          "base_uri": "https://localhost:8080/"
        },
        "outputId": "f91e8f0c-91ee-47f9-b22b-e3861296759e"
      },
      "source": [
        "df.info()"
      ],
      "execution_count": 5,
      "outputs": [
        {
          "output_type": "stream",
          "text": [
            "<class 'pandas.core.frame.DataFrame'>\n",
            "RangeIndex: 10000 entries, 0 to 9999\n",
            "Data columns (total 14 columns):\n",
            " #   Column           Non-Null Count  Dtype  \n",
            "---  ------           --------------  -----  \n",
            " 0   RowNumber        10000 non-null  int64  \n",
            " 1   CustomerId       10000 non-null  int64  \n",
            " 2   Surname          10000 non-null  object \n",
            " 3   CreditScore      10000 non-null  int64  \n",
            " 4   Geography        10000 non-null  object \n",
            " 5   Gender           10000 non-null  object \n",
            " 6   Age              10000 non-null  int64  \n",
            " 7   Tenure           10000 non-null  int64  \n",
            " 8   Balance          10000 non-null  float64\n",
            " 9   NumOfProducts    10000 non-null  int64  \n",
            " 10  HasCrCard        10000 non-null  int64  \n",
            " 11  IsActiveMember   10000 non-null  int64  \n",
            " 12  EstimatedSalary  10000 non-null  float64\n",
            " 13  Exited           10000 non-null  int64  \n",
            "dtypes: float64(2), int64(9), object(3)\n",
            "memory usage: 1.1+ MB\n"
          ],
          "name": "stdout"
        }
      ]
    },
    {
      "cell_type": "markdown",
      "metadata": {
        "id": "_h43uCoQRN04"
      },
      "source": [
        "В данном датасете 10000 объектов, 13 признаков и один целевой."
      ]
    },
    {
      "cell_type": "code",
      "metadata": {
        "colab": {
          "base_uri": "https://localhost:8080/"
        },
        "id": "opW5AwRBRF_l",
        "outputId": "23ecc15e-5c88-48d2-8acf-83e4fc0dda7a"
      },
      "source": [
        "# Проверка df на наличие пропущенных значений.\r\n",
        "df.isna().sum()"
      ],
      "execution_count": 6,
      "outputs": [
        {
          "output_type": "execute_result",
          "data": {
            "text/plain": [
              "RowNumber          0\n",
              "CustomerId         0\n",
              "Surname            0\n",
              "CreditScore        0\n",
              "Geography          0\n",
              "Gender             0\n",
              "Age                0\n",
              "Tenure             0\n",
              "Balance            0\n",
              "NumOfProducts      0\n",
              "HasCrCard          0\n",
              "IsActiveMember     0\n",
              "EstimatedSalary    0\n",
              "Exited             0\n",
              "dtype: int64"
            ]
          },
          "metadata": {
            "tags": []
          },
          "execution_count": 6
        }
      ]
    },
    {
      "cell_type": "markdown",
      "metadata": {
        "id": "_o8prN-gdFul"
      },
      "source": [
        "Проверка показала, что в df нет пропущенных значений."
      ]
    },
    {
      "cell_type": "code",
      "metadata": {
        "id": "KPJGzXS1RnTP"
      },
      "source": [
        "# Признаки RowNumber, EstimatedSalary, CustomerId, Surname являются неинформативными, их следует удалить.\r\n",
        "del_col=['RowNumber','EstimatedSalary','CustomerId','Surname']\r\n",
        "df=df.drop(del_col,axis=1)"
      ],
      "execution_count": 7,
      "outputs": []
    },
    {
      "cell_type": "code",
      "metadata": {
        "colab": {
          "base_uri": "https://localhost:8080/"
        },
        "id": "1qyWrMw0WeIi",
        "outputId": "dc07da79-fb6c-4353-8112-b6390646d9de"
      },
      "source": [
        "df.info()"
      ],
      "execution_count": 8,
      "outputs": [
        {
          "output_type": "stream",
          "text": [
            "<class 'pandas.core.frame.DataFrame'>\n",
            "RangeIndex: 10000 entries, 0 to 9999\n",
            "Data columns (total 10 columns):\n",
            " #   Column          Non-Null Count  Dtype  \n",
            "---  ------          --------------  -----  \n",
            " 0   CreditScore     10000 non-null  int64  \n",
            " 1   Geography       10000 non-null  object \n",
            " 2   Gender          10000 non-null  object \n",
            " 3   Age             10000 non-null  int64  \n",
            " 4   Tenure          10000 non-null  int64  \n",
            " 5   Balance         10000 non-null  float64\n",
            " 6   NumOfProducts   10000 non-null  int64  \n",
            " 7   HasCrCard       10000 non-null  int64  \n",
            " 8   IsActiveMember  10000 non-null  int64  \n",
            " 9   Exited          10000 non-null  int64  \n",
            "dtypes: float64(1), int64(7), object(2)\n",
            "memory usage: 781.4+ KB\n"
          ],
          "name": "stdout"
        }
      ]
    },
    {
      "cell_type": "code",
      "metadata": {
        "colab": {
          "base_uri": "https://localhost:8080/",
          "height": 406
        },
        "id": "pnpJiUnvmPcf",
        "outputId": "a9c82ad8-1eb1-4b99-81aa-56eb158e6215"
      },
      "source": [
        "df"
      ],
      "execution_count": 9,
      "outputs": [
        {
          "output_type": "execute_result",
          "data": {
            "text/html": [
              "<div>\n",
              "<style scoped>\n",
              "    .dataframe tbody tr th:only-of-type {\n",
              "        vertical-align: middle;\n",
              "    }\n",
              "\n",
              "    .dataframe tbody tr th {\n",
              "        vertical-align: top;\n",
              "    }\n",
              "\n",
              "    .dataframe thead th {\n",
              "        text-align: right;\n",
              "    }\n",
              "</style>\n",
              "<table border=\"1\" class=\"dataframe\">\n",
              "  <thead>\n",
              "    <tr style=\"text-align: right;\">\n",
              "      <th></th>\n",
              "      <th>CreditScore</th>\n",
              "      <th>Geography</th>\n",
              "      <th>Gender</th>\n",
              "      <th>Age</th>\n",
              "      <th>Tenure</th>\n",
              "      <th>Balance</th>\n",
              "      <th>NumOfProducts</th>\n",
              "      <th>HasCrCard</th>\n",
              "      <th>IsActiveMember</th>\n",
              "      <th>Exited</th>\n",
              "    </tr>\n",
              "  </thead>\n",
              "  <tbody>\n",
              "    <tr>\n",
              "      <th>0</th>\n",
              "      <td>619</td>\n",
              "      <td>France</td>\n",
              "      <td>Female</td>\n",
              "      <td>42</td>\n",
              "      <td>2</td>\n",
              "      <td>0.00</td>\n",
              "      <td>1</td>\n",
              "      <td>1</td>\n",
              "      <td>1</td>\n",
              "      <td>1</td>\n",
              "    </tr>\n",
              "    <tr>\n",
              "      <th>1</th>\n",
              "      <td>608</td>\n",
              "      <td>Spain</td>\n",
              "      <td>Female</td>\n",
              "      <td>41</td>\n",
              "      <td>1</td>\n",
              "      <td>83807.86</td>\n",
              "      <td>1</td>\n",
              "      <td>0</td>\n",
              "      <td>1</td>\n",
              "      <td>0</td>\n",
              "    </tr>\n",
              "    <tr>\n",
              "      <th>2</th>\n",
              "      <td>502</td>\n",
              "      <td>France</td>\n",
              "      <td>Female</td>\n",
              "      <td>42</td>\n",
              "      <td>8</td>\n",
              "      <td>159660.80</td>\n",
              "      <td>3</td>\n",
              "      <td>1</td>\n",
              "      <td>0</td>\n",
              "      <td>1</td>\n",
              "    </tr>\n",
              "    <tr>\n",
              "      <th>3</th>\n",
              "      <td>699</td>\n",
              "      <td>France</td>\n",
              "      <td>Female</td>\n",
              "      <td>39</td>\n",
              "      <td>1</td>\n",
              "      <td>0.00</td>\n",
              "      <td>2</td>\n",
              "      <td>0</td>\n",
              "      <td>0</td>\n",
              "      <td>0</td>\n",
              "    </tr>\n",
              "    <tr>\n",
              "      <th>4</th>\n",
              "      <td>850</td>\n",
              "      <td>Spain</td>\n",
              "      <td>Female</td>\n",
              "      <td>43</td>\n",
              "      <td>2</td>\n",
              "      <td>125510.82</td>\n",
              "      <td>1</td>\n",
              "      <td>1</td>\n",
              "      <td>1</td>\n",
              "      <td>0</td>\n",
              "    </tr>\n",
              "    <tr>\n",
              "      <th>...</th>\n",
              "      <td>...</td>\n",
              "      <td>...</td>\n",
              "      <td>...</td>\n",
              "      <td>...</td>\n",
              "      <td>...</td>\n",
              "      <td>...</td>\n",
              "      <td>...</td>\n",
              "      <td>...</td>\n",
              "      <td>...</td>\n",
              "      <td>...</td>\n",
              "    </tr>\n",
              "    <tr>\n",
              "      <th>9995</th>\n",
              "      <td>771</td>\n",
              "      <td>France</td>\n",
              "      <td>Male</td>\n",
              "      <td>39</td>\n",
              "      <td>5</td>\n",
              "      <td>0.00</td>\n",
              "      <td>2</td>\n",
              "      <td>1</td>\n",
              "      <td>0</td>\n",
              "      <td>0</td>\n",
              "    </tr>\n",
              "    <tr>\n",
              "      <th>9996</th>\n",
              "      <td>516</td>\n",
              "      <td>France</td>\n",
              "      <td>Male</td>\n",
              "      <td>35</td>\n",
              "      <td>10</td>\n",
              "      <td>57369.61</td>\n",
              "      <td>1</td>\n",
              "      <td>1</td>\n",
              "      <td>1</td>\n",
              "      <td>0</td>\n",
              "    </tr>\n",
              "    <tr>\n",
              "      <th>9997</th>\n",
              "      <td>709</td>\n",
              "      <td>France</td>\n",
              "      <td>Female</td>\n",
              "      <td>36</td>\n",
              "      <td>7</td>\n",
              "      <td>0.00</td>\n",
              "      <td>1</td>\n",
              "      <td>0</td>\n",
              "      <td>1</td>\n",
              "      <td>1</td>\n",
              "    </tr>\n",
              "    <tr>\n",
              "      <th>9998</th>\n",
              "      <td>772</td>\n",
              "      <td>Germany</td>\n",
              "      <td>Male</td>\n",
              "      <td>42</td>\n",
              "      <td>3</td>\n",
              "      <td>75075.31</td>\n",
              "      <td>2</td>\n",
              "      <td>1</td>\n",
              "      <td>0</td>\n",
              "      <td>1</td>\n",
              "    </tr>\n",
              "    <tr>\n",
              "      <th>9999</th>\n",
              "      <td>792</td>\n",
              "      <td>France</td>\n",
              "      <td>Female</td>\n",
              "      <td>28</td>\n",
              "      <td>4</td>\n",
              "      <td>130142.79</td>\n",
              "      <td>1</td>\n",
              "      <td>1</td>\n",
              "      <td>0</td>\n",
              "      <td>0</td>\n",
              "    </tr>\n",
              "  </tbody>\n",
              "</table>\n",
              "<p>10000 rows × 10 columns</p>\n",
              "</div>"
            ],
            "text/plain": [
              "      CreditScore Geography  Gender  ...  HasCrCard  IsActiveMember  Exited\n",
              "0             619    France  Female  ...          1               1       1\n",
              "1             608     Spain  Female  ...          0               1       0\n",
              "2             502    France  Female  ...          1               0       1\n",
              "3             699    France  Female  ...          0               0       0\n",
              "4             850     Spain  Female  ...          1               1       0\n",
              "...           ...       ...     ...  ...        ...             ...     ...\n",
              "9995          771    France    Male  ...          1               0       0\n",
              "9996          516    France    Male  ...          1               1       0\n",
              "9997          709    France  Female  ...          0               1       1\n",
              "9998          772   Germany    Male  ...          1               0       1\n",
              "9999          792    France  Female  ...          1               0       0\n",
              "\n",
              "[10000 rows x 10 columns]"
            ]
          },
          "metadata": {
            "tags": []
          },
          "execution_count": 9
        }
      ]
    },
    {
      "cell_type": "code",
      "metadata": {
        "id": "8iiZp7TQRvGg",
        "colab": {
          "base_uri": "https://localhost:8080/",
          "height": 403
        },
        "outputId": "3b35f8e1-75ee-4e10-8e2c-f8c997b3f71f"
      },
      "source": [
        "# Гистограмма значений ушедших и оставшихся клиентов\r\n",
        "df['Exited'].value_counts().plot(kind='bar',grid=True,figsize=(10,6),title='0 - оставшиеся, 1 - ушедшие клиенты')"
      ],
      "execution_count": 10,
      "outputs": [
        {
          "output_type": "execute_result",
          "data": {
            "text/plain": [
              "<matplotlib.axes._subplots.AxesSubplot at 0x7feec8b8e5c0>"
            ]
          },
          "metadata": {
            "tags": []
          },
          "execution_count": 10
        },
        {
          "output_type": "display_data",
          "data": {
            "image/png": "[encoded data removed]",
            "text/plain": [
              "<Figure size 720x432 with 1 Axes>"
            ]
          },
          "metadata": {
            "tags": [],
            "needs_background": "light"
          }
        }
      ]
    },
    {
      "cell_type": "markdown",
      "metadata": {
        "id": "_jcI0ldxR1Fw"
      },
      "source": [
        "Соотношение оттока и оставшихся 1:4. Вывод: такое соотношение говорит, что присутствует дисбаланс в данных."
      ]
    },
    {
      "cell_type": "code",
      "metadata": {
        "colab": {
          "base_uri": "https://localhost:8080/",
          "height": 605
        },
        "id": "WFLwOI72VusM",
        "outputId": "cf926713-2e65-4041-9575-dc78a34fefd7"
      },
      "source": [
        "# Графики показывают зависимость целевого признака от остальных.\r\n",
        "fig, axes = plt.subplots(nrows=3, ncols=3, figsize=(15, 10)) # fig = plt.figure(), axes = fig.add_subplot()\r\n",
        "for idx, feature in enumerate(df.columns[:-1]):\r\n",
        "   df.plot(feature, \"Exited\", subplots=True, kind=\"scatter\", ax=axes[idx // 3, idx % 3])"
      ],
      "execution_count": 11,
      "outputs": [
        {
          "output_type": "display_data",
          "data": {
            "image/png": "[encoded data removed]",
            "text/plain": [
              "<Figure size 1080x720 with 9 Axes>"
            ]
          },
          "metadata": {
            "tags": [],
            "needs_background": "light"
          }
        }
      ]
    },
    {
      "cell_type": "markdown",
      "metadata": {
        "id": "K7cDn5EkezgS"
      },
      "source": [
        "Ярко выраженной линейной зависимости не наблюдается"
      ]
    },
    {
      "cell_type": "code",
      "metadata": {
        "colab": {
          "base_uri": "https://localhost:8080/",
          "height": 287
        },
        "id": "ZxCimbeSiqEb",
        "outputId": "2b84ae94-9d19-47dc-e408-18fcd4a1c2d5"
      },
      "source": [
        "# Корреляция  Пирсона\r\n",
        "df.corr()"
      ],
      "execution_count": 12,
      "outputs": [
        {
          "output_type": "execute_result",
          "data": {
            "text/html": [
              "<div>\n",
              "<style scoped>\n",
              "    .dataframe tbody tr th:only-of-type {\n",
              "        vertical-align: middle;\n",
              "    }\n",
              "\n",
              "    .dataframe tbody tr th {\n",
              "        vertical-align: top;\n",
              "    }\n",
              "\n",
              "    .dataframe thead th {\n",
              "        text-align: right;\n",
              "    }\n",
              "</style>\n",
              "<table border=\"1\" class=\"dataframe\">\n",
              "  <thead>\n",
              "    <tr style=\"text-align: right;\">\n",
              "      <th></th>\n",
              "      <th>CreditScore</th>\n",
              "      <th>Age</th>\n",
              "      <th>Tenure</th>\n",
              "      <th>Balance</th>\n",
              "      <th>NumOfProducts</th>\n",
              "      <th>HasCrCard</th>\n",
              "      <th>IsActiveMember</th>\n",
              "      <th>Exited</th>\n",
              "    </tr>\n",
              "  </thead>\n",
              "  <tbody>\n",
              "    <tr>\n",
              "      <th>CreditScore</th>\n",
              "      <td>1.000000</td>\n",
              "      <td>-0.003965</td>\n",
              "      <td>0.000842</td>\n",
              "      <td>0.006268</td>\n",
              "      <td>0.012238</td>\n",
              "      <td>-0.005458</td>\n",
              "      <td>0.025651</td>\n",
              "      <td>-0.027094</td>\n",
              "    </tr>\n",
              "    <tr>\n",
              "      <th>Age</th>\n",
              "      <td>-0.003965</td>\n",
              "      <td>1.000000</td>\n",
              "      <td>-0.009997</td>\n",
              "      <td>0.028308</td>\n",
              "      <td>-0.030680</td>\n",
              "      <td>-0.011721</td>\n",
              "      <td>0.085472</td>\n",
              "      <td>0.285323</td>\n",
              "    </tr>\n",
              "    <tr>\n",
              "      <th>Tenure</th>\n",
              "      <td>0.000842</td>\n",
              "      <td>-0.009997</td>\n",
              "      <td>1.000000</td>\n",
              "      <td>-0.012254</td>\n",
              "      <td>0.013444</td>\n",
              "      <td>0.022583</td>\n",
              "      <td>-0.028362</td>\n",
              "      <td>-0.014001</td>\n",
              "    </tr>\n",
              "    <tr>\n",
              "      <th>Balance</th>\n",
              "      <td>0.006268</td>\n",
              "      <td>0.028308</td>\n",
              "      <td>-0.012254</td>\n",
              "      <td>1.000000</td>\n",
              "      <td>-0.304180</td>\n",
              "      <td>-0.014858</td>\n",
              "      <td>-0.010084</td>\n",
              "      <td>0.118533</td>\n",
              "    </tr>\n",
              "    <tr>\n",
              "      <th>NumOfProducts</th>\n",
              "      <td>0.012238</td>\n",
              "      <td>-0.030680</td>\n",
              "      <td>0.013444</td>\n",
              "      <td>-0.304180</td>\n",
              "      <td>1.000000</td>\n",
              "      <td>0.003183</td>\n",
              "      <td>0.009612</td>\n",
              "      <td>-0.047820</td>\n",
              "    </tr>\n",
              "    <tr>\n",
              "      <th>HasCrCard</th>\n",
              "      <td>-0.005458</td>\n",
              "      <td>-0.011721</td>\n",
              "      <td>0.022583</td>\n",
              "      <td>-0.014858</td>\n",
              "      <td>0.003183</td>\n",
              "      <td>1.000000</td>\n",
              "      <td>-0.011866</td>\n",
              "      <td>-0.007138</td>\n",
              "    </tr>\n",
              "    <tr>\n",
              "      <th>IsActiveMember</th>\n",
              "      <td>0.025651</td>\n",
              "      <td>0.085472</td>\n",
              "      <td>-0.028362</td>\n",
              "      <td>-0.010084</td>\n",
              "      <td>0.009612</td>\n",
              "      <td>-0.011866</td>\n",
              "      <td>1.000000</td>\n",
              "      <td>-0.156128</td>\n",
              "    </tr>\n",
              "    <tr>\n",
              "      <th>Exited</th>\n",
              "      <td>-0.027094</td>\n",
              "      <td>0.285323</td>\n",
              "      <td>-0.014001</td>\n",
              "      <td>0.118533</td>\n",
              "      <td>-0.047820</td>\n",
              "      <td>-0.007138</td>\n",
              "      <td>-0.156128</td>\n",
              "      <td>1.000000</td>\n",
              "    </tr>\n",
              "  </tbody>\n",
              "</table>\n",
              "</div>"
            ],
            "text/plain": [
              "                CreditScore       Age  ...  IsActiveMember    Exited\n",
              "CreditScore        1.000000 -0.003965  ...        0.025651 -0.027094\n",
              "Age               -0.003965  1.000000  ...        0.085472  0.285323\n",
              "Tenure             0.000842 -0.009997  ...       -0.028362 -0.014001\n",
              "Balance            0.006268  0.028308  ...       -0.010084  0.118533\n",
              "NumOfProducts      0.012238 -0.030680  ...        0.009612 -0.047820\n",
              "HasCrCard         -0.005458 -0.011721  ...       -0.011866 -0.007138\n",
              "IsActiveMember     0.025651  0.085472  ...        1.000000 -0.156128\n",
              "Exited            -0.027094  0.285323  ...       -0.156128  1.000000\n",
              "\n",
              "[8 rows x 8 columns]"
            ]
          },
          "metadata": {
            "tags": []
          },
          "execution_count": 12
        }
      ]
    },
    {
      "cell_type": "markdown",
      "metadata": {
        "id": "u0aA92x5SI7u"
      },
      "source": [
        "У признаков наблюдается слабая корреляция между собой и с целевым признаком."
      ]
    },
    {
      "cell_type": "markdown",
      "metadata": {
        "id": "sjwTmT8SSMKO"
      },
      "source": [
        "**Преобразование данных**"
      ]
    },
    {
      "cell_type": "code",
      "metadata": {
        "id": "4A9nCXbaSR9H"
      },
      "source": [
        "# Кодирование категориальных признаков методом \"One hot encoder\"\r\n",
        "df = pd.get_dummies(df, drop_first=True)\r\n",
        "\r\n",
        "# Выделение целевого признака и остальные признаков\r\n",
        "target=df['Exited'] \r\n",
        "features=df.drop(['Exited'], axis=1)"
      ],
      "execution_count": 13,
      "outputs": []
    },
    {
      "cell_type": "code",
      "metadata": {
        "id": "E1Gqu_mMSVvm"
      },
      "source": [
        "# Разделение данных на обучающую и проверочную выборки\r\n",
        "train_features, valid_features, train_target, valid_target=train_test_split(features, target, test_size=0.20, random_state=2020)"
      ],
      "execution_count": 14,
      "outputs": []
    },
    {
      "cell_type": "code",
      "metadata": {
        "id": "gu3uxjWcSXuW",
        "colab": {
          "base_uri": "https://localhost:8080/"
        },
        "outputId": "2c94b66f-bb4c-4886-d353-70d6d0c530b3"
      },
      "source": [
        "# Стандартизация обучающей и проверочной выборки\r\n",
        "numeric=['CreditScore','Age','Tenure','Balance','NumOfProducts','HasCrCard','IsActiveMember']\r\n",
        "scaler=StandardScaler()\r\n",
        "scaler.fit(train_features[numeric])\r\n",
        "train_features[numeric]=scaler.transform(train_features[numeric])\r\n",
        "valid_features[numeric]=scaler.transform(valid_features[numeric])"
      ],
      "execution_count": 15,
      "outputs": [
        {
          "output_type": "stream",
          "text": [
            "/usr/local/lib/python3.6/dist-packages/ipykernel_launcher.py:5: SettingWithCopyWarning: \n",
            "A value is trying to be set on a copy of a slice from a DataFrame.\n",
            "Try using .loc[row_indexer,col_indexer] = value instead\n",
            "\n",
            "See the caveats in the documentation: https://pandas.pydata.org/pandas-docs/stable/user_guide/indexing.html#returning-a-view-versus-a-copy\n",
            "  \"\"\"\n",
            "/usr/local/lib/python3.6/dist-packages/pandas/core/indexing.py:1734: SettingWithCopyWarning: \n",
            "A value is trying to be set on a copy of a slice from a DataFrame.\n",
            "Try using .loc[row_indexer,col_indexer] = value instead\n",
            "\n",
            "See the caveats in the documentation: https://pandas.pydata.org/pandas-docs/stable/user_guide/indexing.html#returning-a-view-versus-a-copy\n",
            "  isetter(loc, value[:, i].tolist())\n",
            "/usr/local/lib/python3.6/dist-packages/ipykernel_launcher.py:6: SettingWithCopyWarning: \n",
            "A value is trying to be set on a copy of a slice from a DataFrame.\n",
            "Try using .loc[row_indexer,col_indexer] = value instead\n",
            "\n",
            "See the caveats in the documentation: https://pandas.pydata.org/pandas-docs/stable/user_guide/indexing.html#returning-a-view-versus-a-copy\n",
            "  \n",
            "/usr/local/lib/python3.6/dist-packages/pandas/core/indexing.py:1734: SettingWithCopyWarning: \n",
            "A value is trying to be set on a copy of a slice from a DataFrame.\n",
            "Try using .loc[row_indexer,col_indexer] = value instead\n",
            "\n",
            "See the caveats in the documentation: https://pandas.pydata.org/pandas-docs/stable/user_guide/indexing.html#returning-a-view-versus-a-copy\n",
            "  isetter(loc, value[:, i].tolist())\n"
          ],
          "name": "stderr"
        }
      ]
    },
    {
      "cell_type": "markdown",
      "metadata": {
        "id": "8Pmd2g8ksT0O"
      },
      "source": [
        "# Обучение моделей на несбалансированных данных"
      ]
    },
    {
      "cell_type": "markdown",
      "metadata": {
        "id": "495_bEn2rlld"
      },
      "source": [
        "**Decision tree**"
      ]
    },
    {
      "cell_type": "code",
      "metadata": {
        "colab": {
          "base_uri": "https://localhost:8080/"
        },
        "id": "rkzBMS9vsfAh",
        "outputId": "455044ac-e363-41a7-9d46-b72945718be3"
      },
      "source": [
        "# Цикл ищет лучший гиперпораметр max_depth для Decision tree\r\n",
        "for depth in range(1,10,1):\r\n",
        "    model_tree=DecisionTreeClassifier(max_depth=depth,random_state=2020).fit(train_features,train_target)\r\n",
        "    prediction=model_tree.predict(valid_features)\r\n",
        "    print('max_depth:',depth,'F1:',f1_score(valid_target,prediction))"
      ],
      "execution_count": 16,
      "outputs": [
        {
          "output_type": "stream",
          "text": [
            "max_depth: 1 F1: 0.0\n",
            "max_depth: 2 F1: 0.5321888412017167\n",
            "max_depth: 3 F1: 0.40441176470588236\n",
            "max_depth: 4 F1: 0.5366614664586583\n",
            "max_depth: 5 F1: 0.5440251572327044\n",
            "max_depth: 6 F1: 0.5637795275590551\n",
            "max_depth: 7 F1: 0.5765230312035661\n",
            "max_depth: 8 F1: 0.573134328358209\n",
            "max_depth: 9 F1: 0.5760233918128655\n"
          ],
          "name": "stdout"
        }
      ]
    },
    {
      "cell_type": "markdown",
      "metadata": {
        "id": "PgB5q3Bd2CG_"
      },
      "source": [
        "Лучшее значение max_depth=7, при котором F1=0.576"
      ]
    },
    {
      "cell_type": "markdown",
      "metadata": {
        "id": "biQgDiAZSqCo"
      },
      "source": [
        "**Random forest**\r\n"
      ]
    },
    {
      "cell_type": "code",
      "metadata": {
        "colab": {
          "base_uri": "https://localhost:8080/"
        },
        "id": "E-HdA_MazBkg",
        "outputId": "3aef1a11-436a-4d09-f9e0-baeeb17854ce"
      },
      "source": [
        "# Цикл ищет лучший гиперпораметр max_depth для Random forest\r\n",
        "for max_depth in range(1,20,1):\r\n",
        "    model_forest=RandomForestClassifier(max_depth=max_depth,n_estimators=50,random_state=2020).fit(train_features,train_target)\r\n",
        "    prediction=model_forest.predict(valid_features)\r\n",
        "    print('max_depth:',max_depth,'F1:',f1_score(valid_target,prediction))"
      ],
      "execution_count": 19,
      "outputs": [
        {
          "output_type": "stream",
          "text": [
            "max_depth: 1 F1: 0.0\n",
            "max_depth: 2 F1: 0.17787418655097614\n",
            "max_depth: 3 F1: 0.189247311827957\n",
            "max_depth: 4 F1: 0.38649155722326456\n",
            "max_depth: 5 F1: 0.48263888888888895\n",
            "max_depth: 6 F1: 0.5409015025041736\n",
            "max_depth: 7 F1: 0.5691318327974276\n",
            "max_depth: 8 F1: 0.5786163522012578\n",
            "max_depth: 9 F1: 0.5882352941176471\n",
            "max_depth: 10 F1: 0.5929339477726574\n",
            "max_depth: 11 F1: 0.5987841945288754\n",
            "max_depth: 12 F1: 0.605421686746988\n",
            "max_depth: 13 F1: 0.5901639344262296\n",
            "max_depth: 14 F1: 0.5961251862891207\n",
            "max_depth: 15 F1: 0.6032210834553441\n",
            "max_depth: 16 F1: 0.5929203539823009\n",
            "max_depth: 17 F1: 0.6028571428571429\n",
            "max_depth: 18 F1: 0.5901162790697674\n",
            "max_depth: 19 F1: 0.5904486251808974\n"
          ],
          "name": "stdout"
        }
      ]
    },
    {
      "cell_type": "markdown",
      "metadata": {
        "id": "IitbEUok2asP"
      },
      "source": [
        "Лучшее значение max_depth=12, при котором F1=0.605"
      ]
    },
    {
      "cell_type": "code",
      "metadata": {
        "id": "apE-cVMASvTO",
        "colab": {
          "base_uri": "https://localhost:8080/"
        },
        "outputId": "a88bef70-3edf-4856-e12e-7988e89da95b"
      },
      "source": [
        "# Цикл ищет лучший гиперпораметр n_estimators (количество деревьев)\r\n",
        "for estim in range(1,70,2):\r\n",
        "    model_forest=RandomForestClassifier(max_depth=12,n_estimators=estim,random_state=2020).fit(train_features, train_target)\r\n",
        "    prediction=model_forest.predict(valid_features)\r\n",
        "    print('estim',estim,'F1:',f1_score(valid_target, prediction))"
      ],
      "execution_count": 21,
      "outputs": [
        {
          "output_type": "stream",
          "text": [
            "estim 1 F1: 0.5086551264980027\n",
            "estim 3 F1: 0.5582047685834501\n",
            "estim 5 F1: 0.5428571428571428\n",
            "estim 7 F1: 0.561863173216885\n",
            "estim 9 F1: 0.5776487663280115\n",
            "estim 11 F1: 0.577319587628866\n",
            "estim 13 F1: 0.5781710914454278\n",
            "estim 15 F1: 0.5852941176470587\n",
            "estim 17 F1: 0.5816023738872403\n",
            "estim 19 F1: 0.573134328358209\n",
            "estim 21 F1: 0.5705705705705706\n",
            "estim 23 F1: 0.5684210526315789\n",
            "estim 25 F1: 0.5827010622154781\n",
            "estim 27 F1: 0.5866261398176292\n",
            "estim 29 F1: 0.5878787878787879\n",
            "estim 31 F1: 0.5912518853695324\n",
            "estim 33 F1: 0.5878787878787879\n",
            "estim 35 F1: 0.5891238670694865\n",
            "estim 37 F1: 0.5869894099848714\n",
            "estim 39 F1: 0.5933734939759037\n",
            "estim 41 F1: 0.5969696969696969\n",
            "estim 43 F1: 0.5951661631419939\n",
            "estim 45 F1: 0.5930408472012103\n",
            "estim 47 F1: 0.6012084592145014\n",
            "estim 49 F1: 0.6033182503770739\n",
            "estim 51 F1: 0.6045112781954888\n",
            "estim 53 F1: 0.6066066066066066\n",
            "estim 55 F1: 0.6066066066066066\n",
            "estim 57 F1: 0.6077844311377245\n",
            "estim 59 F1: 0.5988023952095808\n",
            "estim 61 F1: 0.5945945945945946\n",
            "estim 63 F1: 0.600896860986547\n",
            "estim 65 F1: 0.6047904191616768\n",
            "estim 67 F1: 0.6059701492537314\n",
            "estim 69 F1: 0.6047904191616768\n"
          ],
          "name": "stdout"
        }
      ]
    },
    {
      "cell_type": "markdown",
      "metadata": {
        "id": "MZWURgIN221l"
      },
      "source": [
        "Лучшее значение n_estimators=57 при котором F1=0.607"
      ]
    },
    {
      "cell_type": "markdown",
      "metadata": {
        "id": "xvoIgcJ8S0i1"
      },
      "source": [
        "**Logistic regression**"
      ]
    },
    {
      "cell_type": "code",
      "metadata": {
        "id": "0YfJCNTNS2Ul",
        "colab": {
          "base_uri": "https://localhost:8080/"
        },
        "outputId": "8d3cc02e-7fab-4ba9-865a-853c9767add9"
      },
      "source": [
        "model_logistic=LogisticRegression().fit(train_features,train_target)\r\n",
        "prediction=model_logistic.predict(valid_features)\r\n",
        "print('F1:',f1_score(valid_target,prediction))"
      ],
      "execution_count": 23,
      "outputs": [
        {
          "output_type": "stream",
          "text": [
            "F1: 0.33391304347826095\n"
          ],
          "name": "stdout"
        }
      ]
    },
    {
      "cell_type": "markdown",
      "metadata": {
        "id": "__swCJQeS4DN"
      },
      "source": [
        "Для Logistic regression F1=0.333"
      ]
    },
    {
      "cell_type": "code",
      "metadata": {
        "colab": {
          "base_uri": "https://localhost:8080/"
        },
        "id": "Ncruv9cpVLhJ",
        "outputId": "41e580ab-3b29-4124-af09-f1516e2791da"
      },
      "source": [
        "# Обучение модели Random forest с параметрами показавшими лучшую F-метрику (max_depth=9 и n_estimators=41)\r\n",
        "model_forest = RandomForestClassifier(max_depth=12, n_estimators=57, random_state=2020).fit(train_features, train_target)\r\n",
        "prediction = model_forest.predict(valid_features)\r\n",
        "print(f1_score(valid_target, prediction))"
      ],
      "execution_count": 24,
      "outputs": [
        {
          "output_type": "stream",
          "text": [
            "0.6077844311377245\n"
          ],
          "name": "stdout"
        }
      ]
    },
    {
      "cell_type": "markdown",
      "metadata": {
        "id": "yj3hoIzAS5cm"
      },
      "source": [
        "**Вывод:**\r\n"
      ]
    },
    {
      "cell_type": "markdown",
      "metadata": {
        "id": "TRSQNWFjS8e9"
      },
      "source": [
        "Лучшее значение F1 меры показала модель Random forest. При значениях max_depth=12 и n_estimators=57 F1 мера =0.607"
      ]
    },
    {
      "cell_type": "markdown",
      "metadata": {
        "id": "rGRZn1m9S_ZZ"
      },
      "source": [
        "# Обучение моделей на сбалансированных данных"
      ]
    },
    {
      "cell_type": "markdown",
      "metadata": {
        "id": "npd56bImPvyd"
      },
      "source": [
        "**Балансировка данных**"
      ]
    },
    {
      "cell_type": "code",
      "metadata": {
        "id": "_S-rBaqwTF6-"
      },
      "source": [
        "# Функция увеличивает количество ушедших клиентов (target==1)\r\n",
        "def upsampling (features,target,repeat):\r\n",
        "    #Разделяем выборку по значениям целевой функции\r\n",
        "    target_one=target[target==1]\r\n",
        "    target_null=target[target==0]\r\n",
        "    features_one=features[target==1]\r\n",
        "    features_null=features[target==0]\r\n",
        "    \r\n",
        "    #Увеличиваем и соединяем обратно\r\n",
        "    upsampling_features=pd.concat([features_null]+[features_one]*repeat)\r\n",
        "    upsampling_target=pd.concat([target_null]+[target_one]*repeat)\r\n",
        "    \r\n",
        "    # Перемешиваем\r\n",
        "    upsampling_features, upsampling_target = shuffle(upsampling_features, upsampling_target, random_state=2020)\r\n",
        "    \r\n",
        "    return upsampling_features,upsampling_target"
      ],
      "execution_count": 25,
      "outputs": []
    },
    {
      "cell_type": "code",
      "metadata": {
        "id": "cIGxeSKcTHZl"
      },
      "source": [
        "features_balance_up, target_balance_up = upsampling(train_features, train_target,4)"
      ],
      "execution_count": 26,
      "outputs": []
    },
    {
      "cell_type": "markdown",
      "metadata": {
        "id": "Bub5YxDwTXc1"
      },
      "source": [
        "**Обучение модели Decision tree на сбалансированных данных**"
      ]
    },
    {
      "cell_type": "code",
      "metadata": {
        "id": "KBoRu0eMTY_c",
        "colab": {
          "base_uri": "https://localhost:8080/"
        },
        "outputId": "b451b8c5-4296-4cfe-b941-154b36bd23d1"
      },
      "source": [
        "%%time\r\n",
        "for depth in range(1,20,1):\r\n",
        "    model_tree = DecisionTreeClassifier(class_weight='balanced', max_depth=depth, random_state=2020).fit(features_balance_up, target_balance_up)\r\n",
        "    prediction = model_tree.predict(valid_features)\r\n",
        "    print('max_depth:',depth,'F1:',f1_score(valid_target, prediction))"
      ],
      "execution_count": 27,
      "outputs": [
        {
          "output_type": "stream",
          "text": [
            "max_depth: 1 F1: 0.5061611374407584\n",
            "max_depth: 2 F1: 0.531104921077066\n",
            "max_depth: 3 F1: 0.531104921077066\n",
            "max_depth: 4 F1: 0.5693822739480752\n",
            "max_depth: 5 F1: 0.5862361937128292\n",
            "max_depth: 6 F1: 0.6001829826166515\n",
            "max_depth: 7 F1: 0.5838509316770186\n",
            "max_depth: 8 F1: 0.5944272445820434\n",
            "max_depth: 9 F1: 0.577570093457944\n",
            "max_depth: 10 F1: 0.5793650793650794\n",
            "max_depth: 11 F1: 0.563297350343474\n",
            "max_depth: 12 F1: 0.5537190082644629\n",
            "max_depth: 13 F1: 0.5424083769633508\n",
            "max_depth: 14 F1: 0.5286343612334802\n",
            "max_depth: 15 F1: 0.5062146892655367\n",
            "max_depth: 16 F1: 0.5106861642294713\n",
            "max_depth: 17 F1: 0.5086306098964327\n",
            "max_depth: 18 F1: 0.5\n",
            "max_depth: 19 F1: 0.5042016806722689\n",
            "CPU times: user 749 ms, sys: 8.05 ms, total: 757 ms\n",
            "Wall time: 744 ms\n"
          ],
          "name": "stdout"
        }
      ]
    },
    {
      "cell_type": "markdown",
      "metadata": {
        "id": "6RO9vl5gSQCf"
      },
      "source": [
        "Лучшее значение max_depth=6 при котором F1=0.600."
      ]
    },
    {
      "cell_type": "markdown",
      "metadata": {
        "id": "FizqDkfvTa-0"
      },
      "source": [
        "**Обучение модели Random forest на сбалансированных данных**"
      ]
    },
    {
      "cell_type": "code",
      "metadata": {
        "id": "JiEMtR6XTdk8",
        "colab": {
          "base_uri": "https://localhost:8080/"
        },
        "outputId": "0801b858-db5a-4948-c441-55b7946fcffb"
      },
      "source": [
        "%%time\r\n",
        "for max_depth in range(1,20,1):\r\n",
        "    model_forest=RandomForestClassifier(class_weight='balanced',max_depth=max_depth,n_estimators=50,random_state=2020).fit(features_balance_up,target_balance_up)\r\n",
        "    prediction=model_forest.predict(valid_features)\r\n",
        "    print('max_depth:',max_depth,'F1:',f1_score(valid_target,prediction))"
      ],
      "execution_count": 28,
      "outputs": [
        {
          "output_type": "stream",
          "text": [
            "max_depth: 1 F1: 0.534466477809254\n",
            "max_depth: 2 F1: 0.5372290292177192\n",
            "max_depth: 3 F1: 0.5744274809160306\n",
            "max_depth: 4 F1: 0.6055226824457594\n",
            "max_depth: 5 F1: 0.6149253731343283\n",
            "max_depth: 6 F1: 0.6120434353405726\n",
            "max_depth: 7 F1: 0.6170634920634921\n",
            "max_depth: 8 F1: 0.6195761856710393\n",
            "max_depth: 9 F1: 0.610134436401241\n",
            "max_depth: 10 F1: 0.6190975865687304\n",
            "max_depth: 11 F1: 0.6233766233766233\n",
            "max_depth: 12 F1: 0.6153846153846153\n",
            "max_depth: 13 F1: 0.6129398410896708\n",
            "max_depth: 14 F1: 0.6132075471698114\n",
            "max_depth: 15 F1: 0.6275946275946276\n",
            "max_depth: 16 F1: 0.6140567200986435\n",
            "max_depth: 17 F1: 0.6284289276807979\n",
            "max_depth: 18 F1: 0.6192893401015228\n",
            "max_depth: 19 F1: 0.6126126126126126\n",
            "CPU times: user 9.47 s, sys: 47.7 ms, total: 9.52 s\n",
            "Wall time: 9.51 s\n"
          ],
          "name": "stdout"
        }
      ]
    },
    {
      "cell_type": "markdown",
      "metadata": {
        "id": "vv64zkSmS2_9"
      },
      "source": [
        "Лучшее значение max_depth=17 при котором F1=0.6284."
      ]
    },
    {
      "cell_type": "code",
      "metadata": {
        "id": "SdmSpjwcTfW8",
        "colab": {
          "base_uri": "https://localhost:8080/"
        },
        "outputId": "1fca2ebf-6b3f-4464-9e8f-5ae4be13644e"
      },
      "source": [
        "%%time\r\n",
        "for estim in range(1,55,1):\r\n",
        "    model_forest = RandomForestClassifier(class_weight='balanced', max_depth=17, n_estimators=estim, random_state=2020).fit(features_balance_up, target_balance_up)\r\n",
        "    prediction = model_forest.predict(valid_features)\r\n",
        "    print('estim',estim,'F1:', f1_score(valid_target, prediction))"
      ],
      "execution_count": 29,
      "outputs": [
        {
          "output_type": "stream",
          "text": [
            "estim 1 F1: 0.5053763440860215\n",
            "estim 2 F1: 0.4903581267217631\n",
            "estim 3 F1: 0.5635103926096998\n",
            "estim 4 F1: 0.5540897097625329\n",
            "estim 5 F1: 0.5876777251184834\n",
            "estim 6 F1: 0.5751295336787565\n",
            "estim 7 F1: 0.5988023952095807\n",
            "estim 8 F1: 0.5982028241335045\n",
            "estim 9 F1: 0.6189889025893959\n",
            "estim 10 F1: 0.6089171974522293\n",
            "estim 11 F1: 0.6195786864931846\n",
            "estim 12 F1: 0.6116129032258064\n",
            "estim 13 F1: 0.6142322097378277\n",
            "estim 14 F1: 0.6141935483870967\n",
            "estim 15 F1: 0.6274509803921569\n",
            "estim 16 F1: 0.6232790988735921\n",
            "estim 17 F1: 0.6279357231149568\n",
            "estim 18 F1: 0.6188679245283019\n",
            "estim 19 F1: 0.6191646191646193\n",
            "estim 20 F1: 0.6206030150753769\n",
            "estim 21 F1: 0.6280788177339901\n",
            "estim 22 F1: 0.6136363636363638\n",
            "estim 23 F1: 0.6182266009852218\n",
            "estim 24 F1: 0.6248431618569635\n",
            "estim 25 F1: 0.6279357231149568\n",
            "estim 26 F1: 0.628140703517588\n",
            "estim 27 F1: 0.6328800988875154\n",
            "estim 28 F1: 0.6368159203980099\n",
            "estim 29 F1: 0.6305418719211823\n",
            "estim 30 F1: 0.6293532338308458\n",
            "estim 31 F1: 0.6354679802955664\n",
            "estim 32 F1: 0.6360248447204969\n",
            "estim 33 F1: 0.6378244746600742\n",
            "estim 34 F1: 0.6360248447204969\n",
            "estim 35 F1: 0.6335403726708074\n",
            "estim 36 F1: 0.6332916145181476\n",
            "estim 37 F1: 0.6342072409488141\n",
            "estim 38 F1: 0.6273525721455457\n",
            "estim 39 F1: 0.6323713927227103\n",
            "estim 40 F1: 0.6229508196721311\n",
            "estim 41 F1: 0.6290726817042607\n",
            "estim 42 F1: 0.6254728877679697\n",
            "estim 43 F1: 0.6259351620947631\n",
            "estim 44 F1: 0.6322418136020151\n",
            "estim 45 F1: 0.6343283582089552\n",
            "estim 46 F1: 0.628140703517588\n",
            "estim 47 F1: 0.635\n",
            "estim 48 F1: 0.6272040302267003\n",
            "estim 49 F1: 0.6393034825870646\n",
            "estim 50 F1: 0.6284289276807979\n",
            "estim 51 F1: 0.6284289276807979\n",
            "estim 52 F1: 0.6292134831460675\n",
            "estim 53 F1: 0.6327543424317618\n",
            "estim 54 F1: 0.6334164588528679\n",
            "CPU times: user 20.7 s, sys: 78.8 ms, total: 20.8 s\n",
            "Wall time: 20.7 s\n"
          ],
          "name": "stdout"
        }
      ]
    },
    {
      "cell_type": "markdown",
      "metadata": {
        "id": "6_eX2ftLTkU-"
      },
      "source": [
        "Лучшее значение n_estimators=49 при котором F1=0.639"
      ]
    },
    {
      "cell_type": "markdown",
      "metadata": {
        "id": "trAgOI83Tj2c"
      },
      "source": [
        "**Обучение модели Logistic regression на сбалансированных данных**"
      ]
    },
    {
      "cell_type": "code",
      "metadata": {
        "id": "aMyHZizKTmhU",
        "colab": {
          "base_uri": "https://localhost:8080/"
        },
        "outputId": "44b75f59-107f-4a6d-e488-426c522d7627"
      },
      "source": [
        "%%time\r\n",
        "model_logistic=LogisticRegression(class_weight='balanced',solver='liblinear').fit(features_balance_up,target_balance_up)\r\n",
        "prediction=model_logistic.predict(valid_features)\r\n",
        "print('F1:',f1_score(valid_target,prediction))"
      ],
      "execution_count": 30,
      "outputs": [
        {
          "output_type": "stream",
          "text": [
            "F1: 0.5017182130584192\n",
            "CPU times: user 36.9 ms, sys: 1.03 ms, total: 38 ms\n",
            "Wall time: 37.4 ms\n"
          ],
          "name": "stdout"
        }
      ]
    },
    {
      "cell_type": "code",
      "metadata": {
        "id": "WDjzsaugTiGE",
        "colab": {
          "base_uri": "https://localhost:8080/"
        },
        "outputId": "3b2f0c13-5b11-4fff-f2da-75846ee74a71"
      },
      "source": [
        "# Обучение модели с параметрами показавшими лучшую F-метрику (max_depth=17 и n_estimators=49)\r\n",
        "model_forest = RandomForestClassifier(class_weight='balanced', max_depth=17, n_estimators=49, random_state=2020).fit(features_balance_up, target_balance_up)\r\n",
        "prediction = model_forest.predict(valid_features)\r\n",
        "print(f1_score(valid_target, prediction))"
      ],
      "execution_count": 31,
      "outputs": [
        {
          "output_type": "stream",
          "text": [
            "0.6393034825870646\n"
          ],
          "name": "stdout"
        }
      ]
    },
    {
      "cell_type": "markdown",
      "metadata": {
        "id": "0rmc5ZqcToRG"
      },
      "source": [
        "Вывод: Мера F1 немного улучшилась. На несбалансированных данных F1=0.634 на сбалансированных F1=0.639"
      ]
    },
    {
      "cell_type": "markdown",
      "metadata": {
        "id": "--DYZFBxuogx"
      },
      "source": [
        "# Metric"
      ]
    },
    {
      "cell_type": "markdown",
      "metadata": {
        "id": "HNcaapS1TqBk"
      },
      "source": [
        "**Метрика AUC-ROC**"
      ]
    },
    {
      "cell_type": "markdown",
      "metadata": {
        "id": "ncQwxjA-yyZ3"
      },
      "source": [
        "AUC-ROC для модели Decision tree"
      ]
    },
    {
      "cell_type": "code",
      "metadata": {
        "id": "OiN4M28dTuZ8"
      },
      "source": [
        "probabilities_tree=model_tree.predict_proba(valid_features)\r\n",
        "probabilities_one_valid_tree=probabilities_tree[:,1]\r\n",
        "fpr_tree,tpr_tree,thresholds=roc_curve(valid_target,probabilities_one_valid_tree)"
      ],
      "execution_count": 34,
      "outputs": []
    },
    {
      "cell_type": "code",
      "metadata": {
        "id": "LYKpw50GTvyD",
        "colab": {
          "base_uri": "https://localhost:8080/"
        },
        "outputId": "2ff3471d-4b3e-4c29-8049-f0b4acca8395"
      },
      "source": [
        "auc_roc_tree=roc_auc_score(valid_target,probabilities_one_valid_tree)\r\n",
        "auc_roc_tree"
      ],
      "execution_count": 36,
      "outputs": [
        {
          "output_type": "execute_result",
          "data": {
            "text/plain": [
              "0.683861457432307"
            ]
          },
          "metadata": {
            "tags": []
          },
          "execution_count": 36
        }
      ]
    },
    {
      "cell_type": "markdown",
      "metadata": {
        "id": "t9cztJBvy9AF"
      },
      "source": [
        "AUC-ROC для модели Random forest"
      ]
    },
    {
      "cell_type": "code",
      "metadata": {
        "id": "kn-DR2mrTyuj"
      },
      "source": [
        "probabilities_forest=model_forest.predict_proba(valid_features)\r\n",
        "probabilities_one_valid_forest=probabilities_forest[:,1]\r\n",
        "fpr_forest,tpr_forest,thresholds=roc_curve(valid_target,probabilities_one_valid_forest)"
      ],
      "execution_count": 38,
      "outputs": []
    },
    {
      "cell_type": "code",
      "metadata": {
        "id": "Jx-Z-ucHT0Us",
        "colab": {
          "base_uri": "https://localhost:8080/"
        },
        "outputId": "c7652317-fede-4b1d-99db-a0b18b0e4e51"
      },
      "source": [
        "auc_roc_forest=roc_auc_score(valid_target,probabilities_one_valid_forest)\r\n",
        "auc_roc_forest"
      ],
      "execution_count": 40,
      "outputs": [
        {
          "output_type": "execute_result",
          "data": {
            "text/plain": [
              "0.8536476566144203"
            ]
          },
          "metadata": {
            "tags": []
          },
          "execution_count": 40
        }
      ]
    },
    {
      "cell_type": "markdown",
      "metadata": {
        "id": "0nzzzv4oTse0"
      },
      "source": [
        "AUC-ROC для модели Logistic regression\r\n",
        "\r\n"
      ]
    },
    {
      "cell_type": "code",
      "metadata": {
        "id": "irzpNBFeT3Fk"
      },
      "source": [
        "probabilities_reg = model_logistic.predict_proba(valid_features)\r\n",
        "probabilities_one_valid_reg = probabilities_reg[:,1]\r\n",
        "fpr_log, tpr_log, thresholds = roc_curve(valid_target, probabilities_one_valid_reg)"
      ],
      "execution_count": 44,
      "outputs": []
    },
    {
      "cell_type": "code",
      "metadata": {
        "id": "vTM0jremT4O8",
        "colab": {
          "base_uri": "https://localhost:8080/"
        },
        "outputId": "d8fa743f-5639-450c-fa44-b61a0a9bd85b"
      },
      "source": [
        "auc_roc_reg=roc_auc_score(valid_target,probabilities_one_valid_reg)\r\n",
        "auc_roc_reg"
      ],
      "execution_count": 45,
      "outputs": [
        {
          "output_type": "execute_result",
          "data": {
            "text/plain": [
              "0.7717903082397022"
            ]
          },
          "metadata": {
            "tags": []
          },
          "execution_count": 45
        }
      ]
    },
    {
      "cell_type": "code",
      "metadata": {
        "id": "-sEib9OtT7Qs",
        "colab": {
          "base_uri": "https://localhost:8080/",
          "height": 475
        },
        "outputId": "42b04295-bdcf-4b91-d688-72b0b06fcc24"
      },
      "source": [
        "plt.figure()\r\n",
        "\r\n",
        "plt.figure(figsize=(10,7))\r\n",
        "plt.plot([0, 1], [0, 1], linestyle='--')\r\n",
        "plt.xlim([0.0, 1.0])\r\n",
        "plt.ylim([0.0, 1.0])\r\n",
        "plt.plot(fpr_log,tpr_log)\r\n",
        "plt.plot(fpr_tree,tpr_tree)\r\n",
        "plt.plot(fpr_forest,tpr_forest)\r\n",
        "plt.xlabel('False Positive Rate')\r\n",
        "plt.ylabel('True Positive Rate')\r\n",
        "plt.title('ROC-кривая')\r\n",
        "plt.legend(('Случайная модель','Случайный лес','Логистическая регрессия','Дерево решения'),\r\n",
        "           loc= 'upper left') \r\n",
        "plt.show()"
      ],
      "execution_count": 46,
      "outputs": [
        {
          "output_type": "display_data",
          "data": {
            "text/plain": [
              "<Figure size 432x288 with 0 Axes>"
            ]
          },
          "metadata": {
            "tags": []
          }
        },
        {
          "output_type": "display_data",
          "data": {
            "image/png": "[encoded data removed]",
            "text/plain": [
              "<Figure size 720x504 with 1 Axes>"
            ]
          },
          "metadata": {
            "tags": [],
            "needs_background": "light"
          }
        }
      ]
    },
    {
      "cell_type": "markdown",
      "metadata": {
        "id": "yikaM8WZT9Y6"
      },
      "source": [
        "Значение площади под кривой. На сколько наша модель отличается от случайной\r\n",
        "\r\n",
        "Лучшее значение метрики auc roc=0.853 у модели Random forest"
      ]
    },
    {
      "cell_type": "markdown",
      "metadata": {
        "id": "6P8eRhZNT-0t"
      },
      "source": [
        "**Общий вывод:**"
      ]
    },
    {
      "cell_type": "markdown",
      "metadata": {
        "id": "AxgE8akjUDtb"
      },
      "source": [
        "Рассматривая данные с учетом дисбаланса + переведенные категориальные + стандартизированные данные и без учета дисбаланса тремя моделями можно сделать вывод, что самая лучшая модель оказалась Random forest. При лучшем значении max_depth=17, n_estimators=49, мы имеем F1 меру =0.639 на тестовой выборке. "
      ]
    }
  ]
}